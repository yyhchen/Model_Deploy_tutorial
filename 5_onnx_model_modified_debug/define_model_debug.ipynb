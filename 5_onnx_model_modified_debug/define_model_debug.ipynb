{
 "cells": [
  {
   "cell_type": "markdown",
   "metadata": {},
   "source": [
    "# 用 pytorch 导出一个复杂一点的模型进行 子模型 提取"
   ]
  },
  {
   "cell_type": "code",
   "execution_count": 1,
   "metadata": {},
   "outputs": [
    {
     "name": "stdout",
     "output_type": "stream",
     "text": [
      "================ Diagnostic Run torch.onnx.export version 2.0.0 ================\n",
      "verbose: False, log level: Level.ERROR\n",
      "======================= 0 NONE 0 NOTE 0 WARNING 0 ERROR ========================\n",
      "\n"
     ]
    }
   ],
   "source": [
    "import torch\n",
    "\n",
    "class Model(torch.nn.Module):\n",
    "\n",
    "    def __init__(self):\n",
    "        super().__init__()\n",
    "        self.convs1 = torch.nn.Sequential(torch.nn.Conv2d(3, 3, 3),\n",
    "                                          torch.nn.Conv2d(3, 3, 3),\n",
    "                                          torch.nn.Conv2d(3, 3, 3))\n",
    "        self.convs2 = torch.nn.Sequential(torch.nn.Conv2d(3, 3, 3),\n",
    "                                          torch.nn.Conv2d(3, 3, 3))\n",
    "        self.convs3 = torch.nn.Sequential(torch.nn.Conv2d(3, 3, 3),\n",
    "                                          torch.nn.Conv2d(3, 3, 3))\n",
    "        self.convs4 = torch.nn.Sequential(torch.nn.Conv2d(3, 3, 3),\n",
    "                                          torch.nn.Conv2d(3, 3, 3),\n",
    "                                          torch.nn.Conv2d(3, 3, 3))\n",
    "    def forward(self, x):\n",
    "        x = self.convs1(x)\n",
    "        x1 = self.convs2(x)\n",
    "        x2 = self.convs3(x)\n",
    "        x = x1 + x2\n",
    "        x = self.convs4(x)\n",
    "        return x\n",
    "\n",
    "model = Model()\n",
    "input = torch.randn(1, 3, 20, 20)\n",
    "\n",
    "torch.onnx.export(model, input, 'whole_model.onnx')"
   ]
  },
  {
   "cell_type": "markdown",
   "metadata": {},
   "source": [
    "## 提取一个子模型"
   ]
  },
  {
   "cell_type": "code",
   "execution_count": 12,
   "metadata": {},
   "outputs": [],
   "source": [
    "import onnx\n",
    "import onnx.utils\n",
    "\n",
    "onnx.utils.extract_model('whole_model.onnx', 'partial_model.onnx', input_names = ['/convs1/convs1.1/Conv_output_0'], output_names=[\"/Add_output_0\"])"
   ]
  },
  {
   "cell_type": "markdown",
   "metadata": {},
   "source": [
    "## 添加额外输出"
   ]
  },
  {
   "cell_type": "code",
   "execution_count": 15,
   "metadata": {},
   "outputs": [],
   "source": [
    "onnx.utils.extract_model('whole_model.onnx', 'submodel_1.onnx', ['/convs1/convs1.1/Conv_output_0'], ['/convs3/convs3.1/Conv_output_0', '31'])"
   ]
  },
  {
   "cell_type": "markdown",
   "metadata": {},
   "source": [
    "## 添加冗余输入"
   ]
  },
  {
   "cell_type": "code",
   "execution_count": 16,
   "metadata": {},
   "outputs": [],
   "source": [
    "onnx.utils.extract_model('whole_model.onnx', 'partial_model.onnx', input_names = ['/convs1/convs1.1/Conv_output_0', 'input.1'], output_names=[\"/Add_output_0\"])"
   ]
  },
  {
   "cell_type": "markdown",
   "metadata": {},
   "source": [
    "## 提取双边输入的 子模型"
   ]
  },
  {
   "cell_type": "code",
   "execution_count": 17,
   "metadata": {},
   "outputs": [],
   "source": [
    "onnx.utils.extract_model('whole_model.onnx', 'new.onnx', input_names=['/convs2/convs2.0/Conv_output_0', \"/convs3/convs3.0/Conv_output_0\"], output_names=[\"/Add_output_0\"])"
   ]
  },
  {
   "cell_type": "markdown",
   "metadata": {},
   "source": [
    "## 输出中间节点的 一些输出值"
   ]
  },
  {
   "cell_type": "code",
   "execution_count": 18,
   "metadata": {},
   "outputs": [],
   "source": [
    "onnx.utils.extract_model('whole_model.onnx', 'more_output_model.onnx', ['input.1'], ['31', \"/convs1/convs1.2/Conv_output_0\", \"/convs2/convs2.1/Conv_output_0\", \"/convs3/convs3.1/Conv_output_0\"])"
   ]
  },
  {
   "cell_type": "markdown",
   "metadata": {},
   "source": [
    "## 拆分之前 的 `more_output_model.onnx` 为多个子模型，方便对部分模块进行调试"
   ]
  },
  {
   "cell_type": "code",
   "execution_count": 19,
   "metadata": {},
   "outputs": [],
   "source": [
    "onnx.utils.extract_model('whole_model.onnx', 'debug_model_1.onnx', ['input.1'], [\"/convs1/convs1.2/Conv_output_0\"])\n",
    "onnx.utils.extract_model('whole_model.onnx', 'debug_model_2.onnx', [\"/convs1/convs1.2/Conv_output_0\"], [\"/convs2/convs2.1/Conv_output_0\"])\n",
    "\n",
    "# 好麻烦，不想找了，前面两个展示了 \n",
    "# onnx.utils.extract_model('whole_model.onnx', 'debug_model_3.onnx', ['23'], ['27'])\n",
    "# onnx.utils.extract_model('whole_model.onnx', 'debug_model_4.onnx', ['25', '27'], ['31'])"
   ]
  }
 ],
 "metadata": {
  "kernelspec": {
   "display_name": "deploy_onnx",
   "language": "python",
   "name": "python3"
  },
  "language_info": {
   "codemirror_mode": {
    "name": "ipython",
    "version": 3
   },
   "file_extension": ".py",
   "mimetype": "text/x-python",
   "name": "python",
   "nbconvert_exporter": "python",
   "pygments_lexer": "ipython3",
   "version": "3.9.12"
  }
 },
 "nbformat": 4,
 "nbformat_minor": 2
}
